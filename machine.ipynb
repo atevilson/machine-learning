{
 "cells": [
  {
   "cell_type": "code",
   "execution_count": 43,
   "id": "bc50d033-9da9-418e-8e25-5a7bf088ae19",
   "metadata": {},
   "outputs": [],
   "source": [
    "# bibliotecas utilizadas \n",
    "import numpy as np\n",
    "from sklearn.model_selection import train_test_split\n",
    "from sklearn.neighbors import KNeighborsClassifier\n",
    "from sklearn.metrics import accuracy_score\n",
    "import pandas as pd\n",
    "\n",
    "#valor = np.array([[1], [2], [3], [4], [5], [6], [7], [8], [9], [10]])\n",
    "#n = np.array([0, 1, 0, 1, 0, 1, 0, 1, 0, 1])"
   ]
  },
  {
   "cell_type": "code",
   "execution_count": 134,
   "id": "2a78f8b3-52e8-48b7-9cd6-32c757289f9e",
   "metadata": {},
   "outputs": [
    {
     "name": "stdout",
     "output_type": "stream",
     "text": [
      "A acurácia do modelo para as vendas é: 0.75\n",
      "Previsão de venda rápida para novos produtos: [1]\n"
     ]
    }
   ],
   "source": [
    "np.random.seed(59) # consistência do conjunto para as amostras\n",
    "\n",
    "# número de amostras (produtos)\n",
    "produtos = 20\n",
    "\n",
    "# preço do produto x avaliação média por clientes\n",
    "P = np.column_stack((\n",
    "    np.random.uniform(20, 110, size=produtos),    # range de preços dos produtos\n",
    "    np.random.uniform(3.1, 5.6, size=produtos)    # avaliação média por clientes\n",
    "))\n",
    "\n",
    "# no \"y\" o 0, representa venda não rápida, e 1 para venda rápida\n",
    "# pressupondo que os produtos com avaliação média acima ou igual à 4.1 e preço abaixo de 50, serãp vendidos rapidamente\n",
    "y = ((P[:, 0] < 50) & (P[:, 1] >= 4.1)).astype(int)\n",
    "\n",
    "# treinamento e testes\n",
    "P_treino, P_teste, y_treino, y_teste = train_test_split(P, y, test_size=0.2, random_state=42)\n",
    "\n",
    "# modelo utilizado \"KNeighborsClassifier\n",
    "modelo = KNeighborsClassifier(n_neighbors=3)\n",
    "\n",
    "# treinar o modelo\n",
    "modelo.fit(P_treino, y_treino)\n",
    "\n",
    "# fazer previsões no conjunto de teste\n",
    "p_pred = modelo.predict(P_teste)\n",
    "\n",
    "# avaliar a precisão do modelo\n",
    "exatidao = accuracy_score(y_teste, p_pred)\n",
    "print(f'A acurácia do modelo para as vendas é: {exatidao}')\n",
    "\n",
    "# previsão para um novo produto\n",
    "novo_produto = np.array([[38, 4.1]])  # valor de 45 e avaliação média de 4.1\n",
    "previsao = modelo.predict(novo_produto.reshape(1, -1))\n",
    "print(f'Previsão de venda rápida para novos produtos: {previsao}') # [1] = aprovado | [0] = reprovado"
   ]
  },
  {
   "cell_type": "code",
   "execution_count": 137,
   "id": "f17d4635-ab8f-4ac4-811d-a8e40fd0f9cb",
   "metadata": {},
   "outputs": [
    {
     "data": {
      "text/html": [
       "<div>\n",
       "<style scoped>\n",
       "    .dataframe tbody tr th:only-of-type {\n",
       "        vertical-align: middle;\n",
       "    }\n",
       "\n",
       "    .dataframe tbody tr th {\n",
       "        vertical-align: top;\n",
       "    }\n",
       "\n",
       "    .dataframe thead th {\n",
       "        text-align: right;\n",
       "    }\n",
       "</style>\n",
       "<table border=\"1\" class=\"dataframe\">\n",
       "  <thead>\n",
       "    <tr style=\"text-align: right;\">\n",
       "      <th></th>\n",
       "      <th>Valor R$</th>\n",
       "      <th>Notas</th>\n",
       "    </tr>\n",
       "  </thead>\n",
       "  <tbody>\n",
       "    <tr>\n",
       "      <th>0</th>\n",
       "      <td>103.2</td>\n",
       "      <td>5.2</td>\n",
       "    </tr>\n",
       "    <tr>\n",
       "      <th>1</th>\n",
       "      <td>34.2</td>\n",
       "      <td>3.9</td>\n",
       "    </tr>\n",
       "    <tr>\n",
       "      <th>2</th>\n",
       "      <td>98.0</td>\n",
       "      <td>3.3</td>\n",
       "    </tr>\n",
       "    <tr>\n",
       "      <th>3</th>\n",
       "      <td>27.6</td>\n",
       "      <td>5.0</td>\n",
       "    </tr>\n",
       "    <tr>\n",
       "      <th>4</th>\n",
       "      <td>71.6</td>\n",
       "      <td>3.7</td>\n",
       "    </tr>\n",
       "  </tbody>\n",
       "</table>\n",
       "</div>"
      ],
      "text/plain": [
       "   Valor R$  Notas\n",
       "0     103.2    5.2\n",
       "1      34.2    3.9\n",
       "2      98.0    3.3\n",
       "3      27.6    5.0\n",
       "4      71.6    3.7"
      ]
     },
     "execution_count": 137,
     "metadata": {},
     "output_type": "execute_result"
    }
   ],
   "source": [
    "dado_classificado = pd.DataFrame(P, columns=['Valor R$', 'Notas']).round(1)\n",
    "dado_classificado.head(5)"
   ]
  }
 ],
 "metadata": {
  "kernelspec": {
   "display_name": "Python 3 (ipykernel)",
   "language": "python",
   "name": "python3"
  },
  "language_info": {
   "codemirror_mode": {
    "name": "ipython",
    "version": 3
   },
   "file_extension": ".py",
   "mimetype": "text/x-python",
   "name": "python",
   "nbconvert_exporter": "python",
   "pygments_lexer": "ipython3",
   "version": "3.12.0"
  }
 },
 "nbformat": 4,
 "nbformat_minor": 5
}
